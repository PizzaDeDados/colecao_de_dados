{
 "cells": [
  {
   "cell_type": "markdown",
   "metadata": {},
   "source": [
    "## Passo 2 - Coletando os dados de um episódio"
   ]
  },
  {
   "cell_type": "code",
   "execution_count": 1,
   "metadata": {},
   "outputs": [],
   "source": [
    "import re\n",
    "\n",
    "from bs4 import BeautifulSoup\n",
    "from requests import get\n",
    "\n",
    "from src.data.make_dataset import ColetorLinksPizza, parse_pagina"
   ]
  },
  {
   "cell_type": "markdown",
   "metadata": {},
   "source": [
    "Usando o coletor de links para juntar os links dos episódios"
   ]
  },
  {
   "cell_type": "code",
   "execution_count": 3,
   "metadata": {},
   "outputs": [
    {
     "data": {
      "text/plain": [
       "['https://podcast.pizzadedados.com/e/episodio-023/',\n",
       " 'https://podcast.pizzadedados.com/e/episodio-022/',\n",
       " 'https://podcast.pizzadedados.com/e/episodio-021/',\n",
       " 'https://podcast.pizzadedados.com/e/episodio-020/',\n",
       " 'https://podcast.pizzadedados.com/e/episodio-019/',\n",
       " 'https://podcast.pizzadedados.com/e/episodio-018/',\n",
       " 'https://podcast.pizzadedados.com/e/episodio-017/',\n",
       " 'https://podcast.pizzadedados.com/e/episodio-016/',\n",
       " 'https://podcast.pizzadedados.com/e/episodio-015-pizza-de-parabens/',\n",
       " 'https://podcast.pizzadedados.com/e/episodio-014/',\n",
       " 'https://podcast.pizzadedados.com/e/a-beleza-matematica-dos-grafos/',\n",
       " 'https://podcast.pizzadedados.com/e/episodio-012-big-data/',\n",
       " 'https://podcast.pizzadedados.com/e/episodio-011-bots-politicos/',\n",
       " 'https://podcast.pizzadedados.com/e/episodio-010-dados-abertos-open-source-e-muito-mais/',\n",
       " 'https://podcast.pizzadedados.com/e/episodio-009-sobre-crawlers-e-scrapers/',\n",
       " 'https://podcast.pizzadedados.com/e/episodio-008-conversando-com-bots/',\n",
       " 'https://podcast.pizzadedados.com/e/episodio-007-etica-leis-e-seguranca-de-dados/',\n",
       " 'https://podcast.pizzadedados.com/e/episodio-006-da-oceanografia-ao-conda-forge/',\n",
       " 'https://podcast.pizzadedados.com/e/episodio-005-serenata-de-amor/',\n",
       " 'https://podcast.pizzadedados.com/e/episodio-004-era-uma-vez-dados/',\n",
       " 'https://podcast.pizzadedados.com/e/episodio-003-sabor-da-casa/',\n",
       " 'https://podcast.pizzadedados.com/e/episodio-002-pizza-de-aprendizado/',\n",
       " 'https://podcast.pizzadedados.com/e/episodio-001-hello-world/']"
      ]
     },
     "execution_count": 3,
     "metadata": {},
     "output_type": "execute_result"
    }
   ],
   "source": [
    "c = ColetorLinksPizza()\n",
    "c.arrasta()\n",
    "\n",
    "c.links"
   ]
  },
  {
   "cell_type": "markdown",
   "metadata": {},
   "source": [
    "# Colocando os dados de um episódio em um dicionário"
   ]
  },
  {
   "cell_type": "markdown",
   "metadata": {},
   "source": [
    "Pegando a página de um episodio "
   ]
  },
  {
   "cell_type": "code",
   "execution_count": 4,
   "metadata": {},
   "outputs": [],
   "source": [
    "link = c.links[0]\n",
    "sopa = parse_pagina(link)"
   ]
  },
  {
   "cell_type": "markdown",
   "metadata": {},
   "source": [
    "O primeiro `h2` do episódio é o título do mesmo"
   ]
  },
  {
   "cell_type": "code",
   "execution_count": 4,
   "metadata": {},
   "outputs": [],
   "source": [
    "d = {\n",
    "    'episódio': sopa.find_all('h2')[0].text,\n",
    "}"
   ]
  },
  {
   "cell_type": "markdown",
   "metadata": {},
   "source": [
    "Já vou colocar também o link direto do episódio"
   ]
  },
  {
   "cell_type": "code",
   "execution_count": 5,
   "metadata": {},
   "outputs": [],
   "source": [
    "d['link_episodio'] = link"
   ]
  },
  {
   "cell_type": "markdown",
   "metadata": {},
   "source": [
    "Existem algumas listas em cada episódio o intervalo de `[1:4]` corresponde respectivamente à:\n",
    "\n",
    "1 - tópicos discutidos no episódio\n",
    "\n",
    "2 - a lista de assuntos técnicos mencionados (links)\n",
    "\n",
    "3 - as pérolas do episódio\n",
    "\n",
    "então vou separar essas listas no objeto `tags`"
   ]
  },
  {
   "cell_type": "code",
   "execution_count": 6,
   "metadata": {},
   "outputs": [],
   "source": [
    "tags = sopa.find_all('ul')[1:4]\n",
    "\n",
    "d['assuntos'] = []\n",
    "d['tópicos'] = []\n",
    "d['pérolas'] =  []"
   ]
  },
  {
   "cell_type": "markdown",
   "metadata": {},
   "source": [
    "Pegando tópicos"
   ]
  },
  {
   "cell_type": "code",
   "execution_count": 7,
   "metadata": {},
   "outputs": [],
   "source": [
    "conteudos = tags[0].find_all('li')\n",
    "for conteudo in conteudos:\n",
    "    d['tópicos'].append(conteudo.text)"
   ]
  },
  {
   "cell_type": "markdown",
   "metadata": {},
   "source": [
    "Pegando assuntos"
   ]
  },
  {
   "cell_type": "code",
   "execution_count": 8,
   "metadata": {},
   "outputs": [],
   "source": [
    "conteudos = tags[1].find_all('a')\n",
    "for conteudo in conteudos:\n",
    "    d['assuntos'].append((conteudo.text, conteudo.attrs['href']))"
   ]
  },
  {
   "cell_type": "markdown",
   "metadata": {},
   "source": [
    "Pegando pérolas"
   ]
  },
  {
   "cell_type": "code",
   "execution_count": 9,
   "metadata": {},
   "outputs": [],
   "source": [
    "conteudos = tags[2].find_all('li')\n",
    "for conteudo in conteudos:\n",
    "    d['pérolas'].append(conteudo.text)"
   ]
  },
  {
   "cell_type": "markdown",
   "metadata": {},
   "source": [
    "Um jeito fácil de saber quantos convidados temos nos episódios é pegar todos os participantes, facilmente identificaveis pela tag `img` que tem atributo de `style` com o conteudo `\"border-radius: 50%;\"` e subtrair 3 (quantidade de pizzaiolos em todos os episódios)"
   ]
  },
  {
   "cell_type": "code",
   "execution_count": 10,
   "metadata": {},
   "outputs": [],
   "source": [
    "d['num_participantes'] = len(sopa.find_all('img', style=re.compile(\"border-radius: 50%;\")))\n",
    "d['num_convidados'] = d['num_participantes'] - 3"
   ]
  },
  {
   "cell_type": "markdown",
   "metadata": {},
   "source": [
    "Eu quero coletar também os nomes dos convidados e participantes, os nomes estão sempre dentro da tag `h3`, com já sabemos a quantidade de partipantes podemos usar o `find_all` e filtrar pela quantidade."
   ]
  },
  {
   "cell_type": "code",
   "execution_count": 11,
   "metadata": {},
   "outputs": [],
   "source": [
    "d['participantes'] = []\n",
    "conteudos = sopa.find_all('h3')[:d['num_participantes']]\n",
    "for conteudo in conteudos:\n",
    "    d['participantes'].append(conteudo.text)"
   ]
  },
  {
   "cell_type": "code",
   "execution_count": 12,
   "metadata": {},
   "outputs": [],
   "source": [
    "d['convidados'] = []\n",
    "for conteudo in conteudos[-d['num_convidados']:]:\n",
    "    d['convidados'].append(conteudo.text)"
   ]
  },
  {
   "cell_type": "code",
   "execution_count": 13,
   "metadata": {},
   "outputs": [
    {
     "data": {
      "text/plain": [
       "{'episódio': 'Episódio 023: BioinfoRmática',\n",
       " 'link_episodio': 'https://podcast.pizzadedados.com/e/episodio-023/',\n",
       " 'assuntos': [('#PerguntaProPizza',\n",
       "   'https://twitter.com/search?q=%23perguntapropizza&src=typd'),\n",
       "  ('Instagram do pizza', 'https://www.instagram.com/pizzadedados/'),\n",
       "  ('Apoia-se do Pizza', 'https://apoia.se/pizzadedados'),\n",
       "  ('Canal do Pizza no Telegram', 'https://t.me/pizzadedados'),\n",
       "  ('Artigo do Adam Drake sobre command line tools',\n",
       "   'https://adamdrake.com/command-line-tools-can-be-235x-faster-than-your-hadoop-cluster.html'),\n",
       "  ('Principles and techniques of data science - Universidade de Berkley',\n",
       "   'https://adamdrake.com/command-line-tools-can-be-235x-faster-than-your-hadoop-cluster.html'),\n",
       "  ('Tensorflow #1 na Revista do Pizza',\n",
       "   'https://adamdrake.com/command-line-tools-can-be-235x-faster-than-your-hadoop-cluster.html'),\n",
       "  ('Tensorflow #2 na Revista do Pizza',\n",
       "   'https://adamdrake.com/command-line-tools-can-be-235x-faster-than-your-hadoop-cluster.html'),\n",
       "  ('Jessica como instrutora no Data Bootcamp',\n",
       "   'https://databootcamp.com.br/classes/inteligencia-artificial-na-pratica-osasco-2019-07-27-090000-0300'),\n",
       "  ('Bioinformática', 'https://pt.wikipedia.org/wiki/Bioinform%C3%A1tica'),\n",
       "  ('Iniciação Científica',\n",
       "   'https://pt.wikipedia.org/wiki/Inicia%C3%A7%C3%A3o_cient%C3%ADfica'),\n",
       "  ('R',\n",
       "   'https://pt.wikipedia.org/wiki/R_(linguagem_de_programa%C3%A7%C3%A3o)'),\n",
       "  ('Hospital Henry Ford',\n",
       "   'https://www.henryford.com/locations/henry-ford-hospital'),\n",
       "  ('Ressonância',\n",
       "   'https://pt.wikipedia.org/wiki/Imagem_por_resson%C3%A2ncia_magn%C3%A9tica'),\n",
       "  ('DNA', 'https://pt.wikipedia.org/wiki/%C3%81cido_desoxirribonucleico'),\n",
       "  ('Sequenciamento de DNA',\n",
       "   'https://pt.wikipedia.org/wiki/Sequenciamento_de_DNA'),\n",
       "  ('Patologista', 'https://pt.wikipedia.org/wiki/Patologista'),\n",
       "  ('Estatística', 'https://pt.wikipedia.org/wiki/Estat%C3%ADstica'),\n",
       "  ('Fluxograma', 'https://pt.wikipedia.org/wiki/Fluxograma'),\n",
       "  ('Pré-processamento de dados',\n",
       "   'https://pt.wikipedia.org/wiki/Pr%C3%A9-processamento_de_dados'),\n",
       "  ('Genoma', 'http://year_1_month_1_submission_file_1'),\n",
       "  ('Normalizar dados',\n",
       "   'https://pt.wikipedia.org/wiki/Normaliza%C3%A7%C3%A3o_de_dados'),\n",
       "  ('Análise não-supervisionada',\n",
       "   'https://en.wikipedia.org/wiki/Unsupervised_learning'),\n",
       "  ('Aprendizado de máquina',\n",
       "   'https://pt.wikipedia.org/wiki/Aprendizado_de_m%C3%A1quina'),\n",
       "  ('Pipeline', 'https://en.wikipedia.org/wiki/Pipeline_(computing)'),\n",
       "  ('Cran', 'https://cran.rstudio.com/'),\n",
       "  ('Bioconductor', 'https://www.bioconductor.org/'),\n",
       "  ('Máquinas de sequenciamento',\n",
       "   'https://pt.wikipedia.org/wiki/Sequenciamento_de_DNA'),\n",
       "  ('GEEO', 'https://www.ncbi.nlm.nih.gov/geo/'),\n",
       "  ('NCBI', 'https://www.ncbi.nlm.nih.gov/'),\n",
       "  ('Terminal', 'https://pt.wikipedia.org/wiki/Terminal_(inform%C3%A1tica)'),\n",
       "  ('Micro-RNA', 'https://pt.wikipedia.org/wiki/Micro-ARN'),\n",
       "  ('Biomedicina', 'https://pt.wikipedia.org/wiki/Biomedicina'),\n",
       "  ('Ciência reprodutível', 'https://pt.wikipedia.org/wiki/Reprodutibilidade'),\n",
       "  ('Séries temporais', 'https://pt.wikipedia.org/wiki/S%C3%A9rie_temporal'),\n",
       "  ('Matrizes', 'https://pt.wikipedia.org/wiki/Matriz_(matem%C3%A1tica)'),\n",
       "  ('Metilação do DNA',\n",
       "   'https://pt.wikipedia.org/wiki/Metila%C3%A7%C3%A3o_do_ADN'),\n",
       "  ('MATLAB', 'https://www.mathworks.com/products/matlab.html'),\n",
       "  ('Outlier', 'https://pt.wikipedia.org/wiki/Outlier'),\n",
       "  ('Laboratório de bancada', 'https://pt.wikipedia.org/wiki/Laborat%C3%B3rio'),\n",
       "  ('Machine learning - features',\n",
       "   'https://en.wikipedia.org/wiki/Feature_(machine_learning)'),\n",
       "  ('Desenvolvimento de software',\n",
       "   'https://en.wikipedia.org/wiki/Software_development'),\n",
       "  ('Pipeta', 'https://pt.wikipedia.org/wiki/Pipeta'),\n",
       "  ('RStudio', 'https://www.rstudio.com/'),\n",
       "  ('RStudio server',\n",
       "   'https://www.rstudio.com/products/rstudio/download-server/'),\n",
       "  ('Linux', 'https://www.linux.org/'),\n",
       "  ('rsync', 'https://pt.wikipedia.org/wiki/Rsync'),\n",
       "  ('scp', 'https://pt.wikipedia.org/wiki/Secure_copy'),\n",
       "  ('R em Jupyter', 'https://github.com/IRkernel/IRkernel'),\n",
       "  ('TCGAbiolinks',\n",
       "   'https://bioconductor.org/packages/release/bioc/html/TCGAbiolinks.html'),\n",
       "  ('GUI',\n",
       "   'https://pt.wikipedia.org/wiki/Interface_gr%C3%A1fica_do_utilizador'),\n",
       "  ('Shiny', 'https://shiny.rstudio.com/'),\n",
       "  ('Javascript', 'https://pt.wikipedia.org/wiki/JavaScript'),\n",
       "  ('HTML', 'https://pt.wikipedia.org/wiki/HTML'),\n",
       "  ('CSS', 'https://pt.wikipedia.org/wiki/Cascading_Style_Sheets'),\n",
       "  ('Google Scholar - Thais',\n",
       "   'https://scholar.google.com/citations?user=kpzBsEwAAAAJ&hl=en'),\n",
       "  ('Cloud', 'https://pt.wikipedia.org/wiki/Computa%C3%A7%C3%A3o_em_nuvem'),\n",
       "  ('TI', 'https://pt.wikipedia.org/wiki/Tecnologia_da_informa%C3%A7%C3%A3o'),\n",
       "  ('Servidor',\n",
       "   'https://pt.wikipedia.org/wiki/Servidor_(computa%C3%A7%C3%A3o)'),\n",
       "  ('Moneyball', 'https://pt.wikipedia.org/wiki/Moneyball')],\n",
       " 'tópicos': ['Quem é e o que faz a nossa convidada?',\n",
       "  'O que uma bioinformata faz em um hospital?',\n",
       "  'Como usar análise de dados para ajudar pacientes de câncer',\n",
       "  'Quais são as dificuldades de analisar dados biológicos?',\n",
       "  'Vamos falar de R!',\n",
       "  'Pesquisa acadêmica Estados Unidos vs Brasil'],\n",
       " 'pérolas': ['Eu gosto de fazer promessas que não necessariamente vão ser cumpridas',\n",
       "  'Pessoal que está morando lá há um tempo fala certinho… acho mó chique',\n",
       "  'Saudades inclusive',\n",
       "  'Vou parar de falar pra não falar muitos nomes esquisitos',\n",
       "  'Agora eu vou rasgar seda pra comunidade de R',\n",
       "  'Jessica tá feliz que a gente está fazendo um episódio de R',\n",
       "  'Dado aberto é pizza e dado fechado é calzone. E a gente gosta de pizza e não de calzone.',\n",
       "  'Eu achei que meu trabalho era legal',\n",
       "  'Muito legal! Eu só falo isso nos episódios...'],\n",
       " 'num_participantes': 4,\n",
       " 'num_convidados': 1,\n",
       " 'participantes': ['Leticia Portella',\n",
       "  'Jessica Temporal',\n",
       "  'Gustavo Coelho',\n",
       "  'Thais Sarraf Sabedot'],\n",
       " 'convidados': ['Thais Sarraf Sabedot']}"
      ]
     },
     "execution_count": 13,
     "metadata": {},
     "output_type": "execute_result"
    }
   ],
   "source": [
    "d"
   ]
  },
  {
   "cell_type": "markdown",
   "metadata": {},
   "source": [
    "___\n",
    "# Criando funções"
   ]
  },
  {
   "cell_type": "code",
   "execution_count": 1,
   "metadata": {},
   "outputs": [],
   "source": [
    "import re\n",
    "from src.data.make_dataset import parse_pagina\n",
    "\n",
    "\n",
    "link = 'https://podcast.pizzadedados.com/e/episodio-023/'\n",
    "sopa = parse_pagina(link)\n",
    "novo_d = {\n",
    "    'episódio': sopa.find_all('h2')[0].text,\n",
    "    'link_episodio': link,\n",
    "    'assuntos': [],\n",
    "    'tópicos': [],\n",
    "    'pérolas':  [],\n",
    "    'num_participantes': 0,\n",
    "    'num_convidados': 0,\n",
    "    'nomes_participantes': [],\n",
    "    'nomes_convidados': [],\n",
    "}"
   ]
  },
  {
   "cell_type": "markdown",
   "metadata": {},
   "source": [
    "___\n",
    "## Contando os participantes"
   ]
  },
  {
   "cell_type": "code",
   "execution_count": 2,
   "metadata": {},
   "outputs": [],
   "source": [
    "def conta_participantes(sopa):\n",
    "    return len(sopa.find_all('img', style=re.compile(\"border-radius: 50%;\")))"
   ]
  },
  {
   "cell_type": "code",
   "execution_count": 3,
   "metadata": {},
   "outputs": [],
   "source": [
    "num_part = conta_participantes(sopa)\n",
    "novo_d['num_participantes'] = num_part\n",
    "novo_d['num_convidados'] = num_part - 3 "
   ]
  },
  {
   "cell_type": "code",
   "execution_count": 4,
   "metadata": {},
   "outputs": [
    {
     "data": {
      "text/plain": [
       "{'episódio': 'Episódio 023: BioinfoRmática',\n",
       " 'link_episodio': 'https://podcast.pizzadedados.com/e/episodio-023/',\n",
       " 'assuntos': [],\n",
       " 'tópicos': [],\n",
       " 'pérolas': [],\n",
       " 'num_participantes': 4,\n",
       " 'num_convidados': 1,\n",
       " 'nomes_participantes': [],\n",
       " 'nomes_convidados': []}"
      ]
     },
     "execution_count": 4,
     "metadata": {},
     "output_type": "execute_result"
    }
   ],
   "source": [
    "novo_d"
   ]
  },
  {
   "cell_type": "markdown",
   "metadata": {},
   "source": [
    "___\n",
    "## Buscando conteudos\n",
    "encontrando topicos, participantes, convidados e perolas"
   ]
  },
  {
   "cell_type": "code",
   "execution_count": 7,
   "metadata": {},
   "outputs": [],
   "source": [
    "def busca_conteudos(tag, html_tag, lim_max=0, lim_min=0):\n",
    "    if lim_max and lim_min:\n",
    "        conteudos = tag.find_all(html_tag)[lim_min:lim_max]\n",
    "        return conteudos\n",
    "    if lim_max:\n",
    "        conteudos = tag.find_all(html_tag)[:lim_max]\n",
    "        return conteudos\n",
    "    conteudos = tag.find_all(html_tag)\n",
    "    return conteudos"
   ]
  },
  {
   "cell_type": "markdown",
   "metadata": {},
   "source": [
    "Usando a `busca_conteudos` para encontrar as tags com topicos, perolas, participantes e convidados"
   ]
  },
  {
   "cell_type": "code",
   "execution_count": 8,
   "metadata": {},
   "outputs": [
    {
     "data": {
      "text/plain": [
       "3"
      ]
     },
     "execution_count": 8,
     "metadata": {},
     "output_type": "execute_result"
    }
   ],
   "source": [
    "tags = busca_conteudos(tag=sopa, html_tag='ul', lim_max=4, lim_min=1)\n",
    "len(tags)"
   ]
  },
  {
   "cell_type": "markdown",
   "metadata": {},
   "source": [
    "Usando a `busca_conteudos` para encontrar as tags com topicos"
   ]
  },
  {
   "cell_type": "code",
   "execution_count": 9,
   "metadata": {},
   "outputs": [
    {
     "data": {
      "text/plain": [
       "[<li style=\"font-weight: 400;\"><span style=\"font-weight: 400;\">Quem é e o que faz a nossa convidada?</span></li>,\n",
       " <li style=\"font-weight: 400;\"><span style=\"font-weight: 400;\">O que uma bioinformata faz em um hospital?</span></li>,\n",
       " <li style=\"font-weight: 400;\"><span style=\"font-weight: 400;\">Como usar análise de dados para ajudar pacientes de câncer</span></li>,\n",
       " <li style=\"font-weight: 400;\"><span style=\"font-weight: 400;\">Quais são as dificuldades de analisar dados biológicos?</span></li>,\n",
       " <li style=\"font-weight: 400;\"><span style=\"font-weight: 400;\">Vamos falar de R!</span></li>,\n",
       " <li style=\"font-weight: 400;\"><span style=\"font-weight: 400;\">Pesquisa acadêmica Estados Unidos vs Brasil</span></li>]"
      ]
     },
     "execution_count": 9,
     "metadata": {},
     "output_type": "execute_result"
    }
   ],
   "source": [
    "contents = busca_conteudos(tags[0], 'li')\n",
    "contents"
   ]
  },
  {
   "cell_type": "markdown",
   "metadata": {},
   "source": [
    "Usando a `busca_conteudos` para encontrar as tags com perolas"
   ]
  },
  {
   "cell_type": "code",
   "execution_count": 10,
   "metadata": {},
   "outputs": [
    {
     "data": {
      "text/plain": [
       "[<li style=\"font-weight: 400;\"><span style=\"font-weight: 400;\">Eu gosto de fazer promessas que não necessariamente vão ser cumpridas</span></li>,\n",
       " <li style=\"font-weight: 400;\"><span style=\"font-weight: 400;\">Pessoal que está morando lá há um tempo fala certinho… acho mó chique</span></li>,\n",
       " <li style=\"font-weight: 400;\"><span style=\"font-weight: 400;\">Saudades inclusive</span></li>,\n",
       " <li style=\"font-weight: 400;\"><span style=\"font-weight: 400;\">Vou parar de falar pra não falar muitos nomes esquisitos</span></li>,\n",
       " <li style=\"font-weight: 400;\"><span style=\"font-weight: 400;\">Agora eu vou rasgar seda pra comunidade de R</span></li>,\n",
       " <li style=\"font-weight: 400;\"><span style=\"font-weight: 400;\">Jessica tá feliz que a gente está fazendo um episódio de R</span></li>,\n",
       " <li style=\"font-weight: 400;\"><span style=\"font-weight: 400;\">Dado aberto é pizza e dado fechado é calzone. E a gente gosta de pizza e não de calzone.</span></li>,\n",
       " <li style=\"font-weight: 400;\"><span style=\"font-weight: 400;\">Eu achei que meu trabalho era legal</span></li>,\n",
       " <li style=\"font-weight: 400;\"><span style=\"font-weight: 400;\">Muito legal! Eu só falo isso nos episódios...</span></li>]"
      ]
     },
     "execution_count": 10,
     "metadata": {},
     "output_type": "execute_result"
    }
   ],
   "source": [
    "contents = busca_conteudos(tags[2], 'li')\n",
    "contents"
   ]
  },
  {
   "cell_type": "markdown",
   "metadata": {},
   "source": [
    "Usando a `busca_conteudos` para encontrar tags com os participantes do episodio"
   ]
  },
  {
   "cell_type": "code",
   "execution_count": 11,
   "metadata": {},
   "outputs": [
    {
     "data": {
      "text/plain": [
       "[<h3>Leticia Portella</h3>,\n",
       " <h3>Jessica Temporal</h3>,\n",
       " <h3>Gustavo Coelho</h3>,\n",
       " <h3>Thais Sarraf Sabedot</h3>]"
      ]
     },
     "execution_count": 11,
     "metadata": {},
     "output_type": "execute_result"
    }
   ],
   "source": [
    "maximo = novo_d['num_participantes']\n",
    "participantes = busca_conteudos(sopa, 'h3', lim_max=maximo)\n",
    "participantes"
   ]
  },
  {
   "cell_type": "code",
   "execution_count": 12,
   "metadata": {},
   "outputs": [
    {
     "data": {
      "text/plain": [
       "[<h3>Thais Sarraf Sabedot</h3>]"
      ]
     },
     "execution_count": 12,
     "metadata": {},
     "output_type": "execute_result"
    }
   ],
   "source": [
    "minimo = novo_d['num_participantes'] - novo_d['num_convidados']\n",
    "convidados = busca_conteudos(sopa, 'h3', lim_min=minimo, lim_max=maximo)\n",
    "convidados"
   ]
  },
  {
   "cell_type": "markdown",
   "metadata": {},
   "source": [
    "___\n",
    "## Recuperando o texto de uma tag"
   ]
  },
  {
   "cell_type": "markdown",
   "metadata": {},
   "source": [
    "Eu posso usar o método `__getattribute__` e passar uma string com o nome do atributo que quero como `'text'` e com isso montar uma função para buscar o texto de uma tag"
   ]
  },
  {
   "cell_type": "code",
   "execution_count": 13,
   "metadata": {},
   "outputs": [],
   "source": [
    "def busca_texto(conteudo):\n",
    "    \"\"\"Método que retorna o texto de uma tag\n",
    "    \n",
    "    Parâmetros::\n",
    "    \n",
    "    :param conteudo: [bs4.Tag], uma lista de tags do tipo `li`\n",
    "    \n",
    "    Retornos::\n",
    "    \n",
    "    :returns: lista de strings\n",
    "    :rtype: list\n",
    "    \n",
    "    Uso::\n",
    "    \n",
    "      >>> busca_texto(tag)\n",
    "    \"\"\"\n",
    "    return conteudo.__getattribute__('text')"
   ]
  },
  {
   "cell_type": "code",
   "execution_count": 14,
   "metadata": {},
   "outputs": [
    {
     "data": {
      "text/plain": [
       "'Thais Sarraf Sabedot'"
      ]
     },
     "execution_count": 14,
     "metadata": {},
     "output_type": "execute_result"
    }
   ],
   "source": [
    "busca_texto(convidados[0])"
   ]
  },
  {
   "cell_type": "markdown",
   "metadata": {},
   "source": [
    "___\n",
    "## Pegando o texto e link de um topico"
   ]
  },
  {
   "cell_type": "markdown",
   "metadata": {},
   "source": [
    "Eu posso usar o método `__getattribute__` em conjunto com método `__getitem__` para obter o texto e o link de uma tag do tipo `a`"
   ]
  },
  {
   "cell_type": "code",
   "execution_count": 15,
   "metadata": {},
   "outputs": [],
   "source": [
    "def busca_href(conteudo):\n",
    "    \"\"\"Método que retorna o texto de uma tag `a` e o seu conteudo textual\n",
    "    \n",
    "    Parâmetros::\n",
    "    \n",
    "    :param conteudo: bs4.Tag, uma tag do tipo `a`\n",
    "    \n",
    "    Retornos::\n",
    "    \n",
    "    :returns: uma tupla contendo o texto e o link da tag\n",
    "    :rtype: tuple\n",
    "    \n",
    "    Uso::\n",
    "    \n",
    "      >>> busca_href(tag)\n",
    "    \"\"\"\n",
    "    return (conteudo.__getattribute__('text'),\n",
    "            conteudo.__getattribute__('attrs').__getitem__('href'))"
   ]
  },
  {
   "cell_type": "code",
   "execution_count": 16,
   "metadata": {},
   "outputs": [
    {
     "data": {
      "text/plain": [
       "('Instagram do pizza', 'https://www.instagram.com/pizzadedados/')"
      ]
     },
     "execution_count": 16,
     "metadata": {},
     "output_type": "execute_result"
    }
   ],
   "source": [
    "contents = busca_conteudos(tags[1], 'a')\n",
    "busca_href(contents[1])"
   ]
  },
  {
   "cell_type": "markdown",
   "metadata": {},
   "source": [
    "___\n",
    "## Pegando texto de um conjunto de tags"
   ]
  },
  {
   "cell_type": "markdown",
   "metadata": {},
   "source": [
    "Eu posso usar o método `__getattribute__` e passar uma string com o nome do atributo que quero como `'text'` e com isso montar uma função para buscar o texto de uma tag"
   ]
  },
  {
   "cell_type": "code",
   "execution_count": 20,
   "metadata": {},
   "outputs": [],
   "source": [
    "def busca_textos(conteudos):\n",
    "    \"\"\"Método que retornar uma lista de textos contidos em uma lista de tags\n",
    "    \n",
    "    Parâmetros::\n",
    "    \n",
    "    :param conteudos: [bs4.Tag], uma lista de tags\n",
    "    \n",
    "    Retornos::\n",
    "    \n",
    "    :returns: lista de strings\n",
    "    :rtype: list\n",
    "    \n",
    "    Uso::\n",
    "    \n",
    "      >>> busca_itens(conteudos)\n",
    "    \"\"\"\n",
    "    itens = []\n",
    "    for conteudo in conteudos:\n",
    "        itens.append(conteudo.__getattribute__('text'))\n",
    "    return itens"
   ]
  },
  {
   "cell_type": "code",
   "execution_count": 21,
   "metadata": {},
   "outputs": [
    {
     "data": {
      "text/plain": [
       "['Leticia Portella',\n",
       " 'Jessica Temporal',\n",
       " 'Gustavo Coelho',\n",
       " 'Thais Sarraf Sabedot']"
      ]
     },
     "execution_count": 21,
     "metadata": {},
     "output_type": "execute_result"
    }
   ],
   "source": [
    "busca_textos(participantes)"
   ]
  }
 ],
 "metadata": {
  "kernelspec": {
   "display_name": "Python 3",
   "language": "python",
   "name": "python3"
  },
  "language_info": {
   "codemirror_mode": {
    "name": "ipython",
    "version": 3
   },
   "file_extension": ".py",
   "mimetype": "text/x-python",
   "name": "python",
   "nbconvert_exporter": "python",
   "pygments_lexer": "ipython3",
   "version": "3.7.3"
  }
 },
 "nbformat": 4,
 "nbformat_minor": 2
}
