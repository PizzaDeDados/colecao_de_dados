{
 "cells": [
  {
   "cell_type": "markdown",
   "metadata": {},
   "source": [
    "# Passo a passo do arrastão de dados do site do podcast\n",
    "\n",
    "Link direto para os episódios: https://podcast.pizzadedados.com"
   ]
  },
  {
   "cell_type": "markdown",
   "metadata": {},
   "source": [
    "Importando bibliotecas"
   ]
  },
  {
   "cell_type": "code",
   "execution_count": 1,
   "metadata": {},
   "outputs": [],
   "source": [
    "from bs4 import BeautifulSoup\n",
    "from requests import get\n",
    "import re"
   ]
  },
  {
   "cell_type": "markdown",
   "metadata": {},
   "source": [
    "Começando pegando a primeira página"
   ]
  },
  {
   "cell_type": "code",
   "execution_count": 2,
   "metadata": {},
   "outputs": [],
   "source": [
    "url = 'https://podcast.pizzadedados.com/'\n",
    "req = get(url)\n",
    "decodificado = req.content.decode('utf-8')"
   ]
  },
  {
   "cell_type": "markdown",
   "metadata": {},
   "source": [
    "Parseando a primeira página"
   ]
  },
  {
   "cell_type": "code",
   "execution_count": 3,
   "metadata": {},
   "outputs": [],
   "source": [
    "sopa = BeautifulSoup(decodificado, 'html.parser')"
   ]
  },
  {
   "cell_type": "markdown",
   "metadata": {},
   "source": [
    "Encontrando os links dos episódios da primeira página"
   ]
  },
  {
   "cell_type": "code",
   "execution_count": 4,
   "metadata": {},
   "outputs": [],
   "source": [
    "regex = re.compile('Episódio')"
   ]
  },
  {
   "cell_type": "code",
   "execution_count": 5,
   "metadata": {},
   "outputs": [],
   "source": [
    "links_episodios = []\n",
    "for tag in sopa.find_all('h2', text=regex):\n",
    "    links_episodios.append(tag.find('a').get('href'))"
   ]
  },
  {
   "cell_type": "code",
   "execution_count": 6,
   "metadata": {},
   "outputs": [
    {
     "data": {
      "text/plain": [
       "['https://podcast.pizzadedados.com/e/episodio-023/',\n",
       " 'https://podcast.pizzadedados.com/e/episodio-022/',\n",
       " 'https://podcast.pizzadedados.com/e/episodio-021/']"
      ]
     },
     "execution_count": 6,
     "metadata": {},
     "output_type": "execute_result"
    }
   ],
   "source": [
    "links_episodios"
   ]
  },
  {
   "cell_type": "markdown",
   "metadata": {},
   "source": [
    "Pegando a próxima página"
   ]
  },
  {
   "cell_type": "code",
   "execution_count": 7,
   "metadata": {},
   "outputs": [],
   "source": [
    "proxima_pagina = sopa.find_all('a', text=re.compile('Older'))[0].get('href')\n",
    "req = get(proxima_pagina)\n",
    "decodificado = req.content.decode('utf-8')\n",
    "sopa = BeautifulSoup(decodificado, 'html.parser')"
   ]
  },
  {
   "cell_type": "code",
   "execution_count": 8,
   "metadata": {},
   "outputs": [
    {
     "data": {
      "text/plain": [
       "['https://podcast.pizzadedados.com/e/episodio-023/',\n",
       " 'https://podcast.pizzadedados.com/e/episodio-022/',\n",
       " 'https://podcast.pizzadedados.com/e/episodio-021/',\n",
       " 'https://podcast.pizzadedados.com/e/episodio-020/',\n",
       " 'https://podcast.pizzadedados.com/e/episodio-019/',\n",
       " 'https://podcast.pizzadedados.com/e/episodio-018/']"
      ]
     },
     "execution_count": 8,
     "metadata": {},
     "output_type": "execute_result"
    }
   ],
   "source": [
    "for tag in sopa.find_all('h2', text=regex):\n",
    "    links_episodios.append(tag.find('a').get('href'))\n",
    "links_episodios"
   ]
  },
  {
   "cell_type": "markdown",
   "metadata": {},
   "source": [
    "___\n",
    "\n",
    "# Criando função para coletar os links de uma página\n",
    "\n",
    "A função deve receber uma lista para colocar os links e uma sopa de letras para procurar os novos links"
   ]
  },
  {
   "cell_type": "code",
   "execution_count": 9,
   "metadata": {},
   "outputs": [],
   "source": [
    "def coleta_links_episodios(lista, sopa_de_letras):\n",
    "    r = re.compile('Episódio')\n",
    "    for tag in sopa.find_all('h2', text=r):\n",
    "        lista.append(tag.find('a').get('href'))\n",
    "    return lista"
   ]
  },
  {
   "cell_type": "code",
   "execution_count": 10,
   "metadata": {},
   "outputs": [
    {
     "data": {
      "text/plain": [
       "['https://podcast.pizzadedados.com/e/episodio-020/',\n",
       " 'https://podcast.pizzadedados.com/e/episodio-019/',\n",
       " 'https://podcast.pizzadedados.com/e/episodio-018/']"
      ]
     },
     "execution_count": 10,
     "metadata": {},
     "output_type": "execute_result"
    }
   ],
   "source": [
    "lista_teste = []\n",
    "lista_teste = coleta_links_episodios(lista_teste, sopa)\n",
    "lista_teste"
   ]
  },
  {
   "cell_type": "markdown",
   "metadata": {},
   "source": [
    "___\n",
    "# Criando uma função para fazer requisição de uma página e parsear essa página\n",
    "\n",
    "Essa função deve receber uma url e retornar um objeto BeautifulSoup"
   ]
  },
  {
   "cell_type": "code",
   "execution_count": 11,
   "metadata": {},
   "outputs": [],
   "source": [
    "def parse_pagina(url):\n",
    "    req = get(url)\n",
    "    decodificado = req.content.decode('utf-8')\n",
    "    sopa = BeautifulSoup(decodificado, 'html.parser')\n",
    "    return sopa"
   ]
  },
  {
   "cell_type": "code",
   "execution_count": 12,
   "metadata": {},
   "outputs": [
    {
     "data": {
      "text/plain": [
       "'\\n\\n\\nPizza de Dados\\n\\n '"
      ]
     },
     "execution_count": 12,
     "metadata": {},
     "output_type": "execute_result"
    }
   ],
   "source": [
    "url = 'https://podcast.pizzadedados.com/'\n",
    "sopa = parse_pagina(url)\n",
    "sopa.text[:20]"
   ]
  },
  {
   "cell_type": "markdown",
   "metadata": {},
   "source": [
    "___\n",
    "# Criando um loop para coletar todos os links dos episodios do Pizza"
   ]
  },
  {
   "cell_type": "code",
   "execution_count": 13,
   "metadata": {},
   "outputs": [
    {
     "name": "stdout",
     "output_type": "stream",
     "text": [
      "https://podcast.pizzadedados.com/page/2/\n",
      "https://podcast.pizzadedados.com/page/3/\n",
      "https://podcast.pizzadedados.com/page/4/\n",
      "https://podcast.pizzadedados.com/page/5/\n",
      "https://podcast.pizzadedados.com/page/6/\n",
      "https://podcast.pizzadedados.com/page/7/\n",
      "https://podcast.pizzadedados.com/page/8/\n"
     ]
    }
   ],
   "source": [
    "url = 'https://podcast.pizzadedados.com/'\n",
    "sopa = parse_pagina(url)\n",
    "proxima_pagina = True\n",
    "coletanea_links = []\n",
    "\n",
    "while(proxima_pagina):\n",
    "    coletanea_links = coleta_links_episodios(coletanea_links, sopa)\n",
    "\n",
    "    proxima_pagina = sopa.find_all('a', text=re.compile('Older'))\n",
    "    if proxima_pagina:\n",
    "        proxima_pagina = proxima_pagina[0].get('href')\n",
    "        print(proxima_pagina)\n",
    "        sopa = parse_pagina(proxima_pagina)"
   ]
  },
  {
   "cell_type": "code",
   "execution_count": 14,
   "metadata": {},
   "outputs": [
    {
     "data": {
      "text/plain": [
       "['https://podcast.pizzadedados.com/e/episodio-023/',\n",
       " 'https://podcast.pizzadedados.com/e/episodio-022/',\n",
       " 'https://podcast.pizzadedados.com/e/episodio-021/',\n",
       " 'https://podcast.pizzadedados.com/e/episodio-020/',\n",
       " 'https://podcast.pizzadedados.com/e/episodio-019/',\n",
       " 'https://podcast.pizzadedados.com/e/episodio-018/',\n",
       " 'https://podcast.pizzadedados.com/e/episodio-017/',\n",
       " 'https://podcast.pizzadedados.com/e/episodio-016/',\n",
       " 'https://podcast.pizzadedados.com/e/episodio-015-pizza-de-parabens/',\n",
       " 'https://podcast.pizzadedados.com/e/episodio-014/',\n",
       " 'https://podcast.pizzadedados.com/e/a-beleza-matematica-dos-grafos/',\n",
       " 'https://podcast.pizzadedados.com/e/episodio-012-big-data/',\n",
       " 'https://podcast.pizzadedados.com/e/episodio-011-bots-politicos/',\n",
       " 'https://podcast.pizzadedados.com/e/episodio-010-dados-abertos-open-source-e-muito-mais/',\n",
       " 'https://podcast.pizzadedados.com/e/episodio-009-sobre-crawlers-e-scrapers/',\n",
       " 'https://podcast.pizzadedados.com/e/episodio-008-conversando-com-bots/',\n",
       " 'https://podcast.pizzadedados.com/e/episodio-007-etica-leis-e-seguranca-de-dados/',\n",
       " 'https://podcast.pizzadedados.com/e/episodio-006-da-oceanografia-ao-conda-forge/',\n",
       " 'https://podcast.pizzadedados.com/e/episodio-005-serenata-de-amor/',\n",
       " 'https://podcast.pizzadedados.com/e/episodio-004-era-uma-vez-dados/',\n",
       " 'https://podcast.pizzadedados.com/e/episodio-003-sabor-da-casa/',\n",
       " 'https://podcast.pizzadedados.com/e/episodio-002-pizza-de-aprendizado/',\n",
       " 'https://podcast.pizzadedados.com/e/episodio-001-hello-world/']"
      ]
     },
     "execution_count": 14,
     "metadata": {},
     "output_type": "execute_result"
    }
   ],
   "source": [
    "coletanea_links"
   ]
  },
  {
   "cell_type": "markdown",
   "metadata": {},
   "source": [
    "___\n",
    "# Juntando tudo em uma classe"
   ]
  },
  {
   "cell_type": "code",
   "execution_count": 15,
   "metadata": {},
   "outputs": [],
   "source": [
    "class ColetorLinksPizza():\n",
    "    def __init__(self):\n",
    "        self.url = 'https://podcast.pizzadedados.com/'\n",
    "        self.links = []\n",
    "        self.sopa = ''\n",
    "        self.prox_pag = ''\n",
    "        \n",
    "    def coleta_links_episodios(self, sopa_de_letras=None):\n",
    "        r = re.compile('Episódio')\n",
    "        if not sopa_de_letras:\n",
    "            sopa_de_letras = self.sopa\n",
    "        for tag in sopa_de_letras.find_all('h2', text=r):\n",
    "            self.links.append(tag.find('a').get('href'))\n",
    "            \n",
    "    def parse_pagina(self, u=None):\n",
    "        if not u:\n",
    "            u = self.url\n",
    "        req = get(u)\n",
    "        decodificado = req.content.decode('utf-8')\n",
    "        self.sopa = BeautifulSoup(decodificado, 'html.parser')\n",
    "\n",
    "    def procura_proxima_pagina(self, s=None):\n",
    "        #self.prox_pag = self.sopa.find_all('a', text=re.compile('Older'))\n",
    "        if not s:\n",
    "            s = self.sopa\n",
    "        self.prox_pag = s.find_all('a', text=re.compile('Older'))\n",
    "        if self.prox_pag:\n",
    "            self.prox_pag = self.prox_pag[0].get('href')\n",
    "    \n",
    "    def arrasta(self):\n",
    "        self.parse_pagina()\n",
    "        self.coleta_links_episodios()\n",
    "        self.procura_proxima_pagina()\n",
    "        \n",
    "        while self.prox_pag:\n",
    "            self.parse_pagina(self.prox_pag)\n",
    "            self.procura_proxima_pagina(self.sopa)\n",
    "            self.coleta_links_episodios()"
   ]
  },
  {
   "cell_type": "code",
   "execution_count": 16,
   "metadata": {},
   "outputs": [
    {
     "data": {
      "text/plain": [
       "[]"
      ]
     },
     "execution_count": 16,
     "metadata": {},
     "output_type": "execute_result"
    }
   ],
   "source": [
    "c = ColetorLinksPizza()\n",
    "c.links"
   ]
  },
  {
   "cell_type": "code",
   "execution_count": 17,
   "metadata": {},
   "outputs": [
    {
     "data": {
      "text/plain": [
       "''"
      ]
     },
     "execution_count": 17,
     "metadata": {},
     "output_type": "execute_result"
    }
   ],
   "source": [
    "c.prox_pag"
   ]
  },
  {
   "cell_type": "code",
   "execution_count": 18,
   "metadata": {},
   "outputs": [],
   "source": [
    "c.arrasta()"
   ]
  },
  {
   "cell_type": "code",
   "execution_count": 19,
   "metadata": {},
   "outputs": [
    {
     "data": {
      "text/plain": [
       "['https://podcast.pizzadedados.com/e/episodio-023/',\n",
       " 'https://podcast.pizzadedados.com/e/episodio-022/',\n",
       " 'https://podcast.pizzadedados.com/e/episodio-021/',\n",
       " 'https://podcast.pizzadedados.com/e/episodio-020/',\n",
       " 'https://podcast.pizzadedados.com/e/episodio-019/',\n",
       " 'https://podcast.pizzadedados.com/e/episodio-018/',\n",
       " 'https://podcast.pizzadedados.com/e/episodio-017/',\n",
       " 'https://podcast.pizzadedados.com/e/episodio-016/',\n",
       " 'https://podcast.pizzadedados.com/e/episodio-015-pizza-de-parabens/',\n",
       " 'https://podcast.pizzadedados.com/e/episodio-014/',\n",
       " 'https://podcast.pizzadedados.com/e/a-beleza-matematica-dos-grafos/',\n",
       " 'https://podcast.pizzadedados.com/e/episodio-012-big-data/',\n",
       " 'https://podcast.pizzadedados.com/e/episodio-011-bots-politicos/',\n",
       " 'https://podcast.pizzadedados.com/e/episodio-010-dados-abertos-open-source-e-muito-mais/',\n",
       " 'https://podcast.pizzadedados.com/e/episodio-009-sobre-crawlers-e-scrapers/',\n",
       " 'https://podcast.pizzadedados.com/e/episodio-008-conversando-com-bots/',\n",
       " 'https://podcast.pizzadedados.com/e/episodio-007-etica-leis-e-seguranca-de-dados/',\n",
       " 'https://podcast.pizzadedados.com/e/episodio-006-da-oceanografia-ao-conda-forge/',\n",
       " 'https://podcast.pizzadedados.com/e/episodio-005-serenata-de-amor/',\n",
       " 'https://podcast.pizzadedados.com/e/episodio-004-era-uma-vez-dados/',\n",
       " 'https://podcast.pizzadedados.com/e/episodio-003-sabor-da-casa/',\n",
       " 'https://podcast.pizzadedados.com/e/episodio-002-pizza-de-aprendizado/',\n",
       " 'https://podcast.pizzadedados.com/e/episodio-001-hello-world/']"
      ]
     },
     "execution_count": 19,
     "metadata": {},
     "output_type": "execute_result"
    }
   ],
   "source": [
    "c.links"
   ]
  },
  {
   "cell_type": "code",
   "execution_count": 20,
   "metadata": {},
   "outputs": [
    {
     "name": "stdout",
     "output_type": "stream",
     "text": [
      "Processing /home/jovyan/work\n",
      "Requirement already satisfied: requests in /opt/conda/lib/python3.7/site-packages (from src==0.1.0) (2.21.0)\n",
      "Requirement already satisfied: beautifulsoup4 in /opt/conda/lib/python3.7/site-packages (from src==0.1.0) (4.7.1)\n",
      "Requirement already satisfied: chardet<3.1.0,>=3.0.2 in /opt/conda/lib/python3.7/site-packages (from requests->src==0.1.0) (3.0.4)\n",
      "Requirement already satisfied: idna<2.9,>=2.5 in /opt/conda/lib/python3.7/site-packages (from requests->src==0.1.0) (2.8)\n",
      "Requirement already satisfied: urllib3<1.25,>=1.21.1 in /opt/conda/lib/python3.7/site-packages (from requests->src==0.1.0) (1.24.2)\n",
      "Requirement already satisfied: certifi>=2017.4.17 in /opt/conda/lib/python3.7/site-packages (from requests->src==0.1.0) (2019.3.9)\n",
      "Requirement already satisfied: soupsieve>=1.2 in /opt/conda/lib/python3.7/site-packages (from beautifulsoup4->src==0.1.0) (1.9.1)\n",
      "Building wheels for collected packages: src\n",
      "  Building wheel for src (setup.py) ... \u001b[?25ldone\n",
      "\u001b[?25h  Stored in directory: /tmp/pip-ephem-wheel-cache-73bw2exb/wheels/79/15/97/248a1232ee81986fcc327307537dc3edd3bcda5e972efa9de3\n",
      "Successfully built src\n",
      "Installing collected packages: src\n",
      "Successfully installed src-0.1.0\n",
      "Note: you may need to restart the kernel to use updated packages.\n"
     ]
    }
   ],
   "source": [
    "pip install .."
   ]
  },
  {
   "cell_type": "code",
   "execution_count": 21,
   "metadata": {},
   "outputs": [],
   "source": [
    "from src.coletores import ColetorLinksPizza"
   ]
  },
  {
   "cell_type": "code",
   "execution_count": 22,
   "metadata": {},
   "outputs": [
    {
     "data": {
      "text/plain": [
       "['https://podcast.pizzadedados.com/e/episodio-023/',\n",
       " 'https://podcast.pizzadedados.com/e/episodio-022/',\n",
       " 'https://podcast.pizzadedados.com/e/episodio-021/',\n",
       " 'https://podcast.pizzadedados.com/e/episodio-020/',\n",
       " 'https://podcast.pizzadedados.com/e/episodio-019/',\n",
       " 'https://podcast.pizzadedados.com/e/episodio-018/',\n",
       " 'https://podcast.pizzadedados.com/e/episodio-017/',\n",
       " 'https://podcast.pizzadedados.com/e/episodio-016/',\n",
       " 'https://podcast.pizzadedados.com/e/episodio-015-pizza-de-parabens/',\n",
       " 'https://podcast.pizzadedados.com/e/episodio-014/',\n",
       " 'https://podcast.pizzadedados.com/e/a-beleza-matematica-dos-grafos/',\n",
       " 'https://podcast.pizzadedados.com/e/episodio-012-big-data/',\n",
       " 'https://podcast.pizzadedados.com/e/episodio-011-bots-politicos/',\n",
       " 'https://podcast.pizzadedados.com/e/episodio-010-dados-abertos-open-source-e-muito-mais/',\n",
       " 'https://podcast.pizzadedados.com/e/episodio-009-sobre-crawlers-e-scrapers/',\n",
       " 'https://podcast.pizzadedados.com/e/episodio-008-conversando-com-bots/',\n",
       " 'https://podcast.pizzadedados.com/e/episodio-007-etica-leis-e-seguranca-de-dados/',\n",
       " 'https://podcast.pizzadedados.com/e/episodio-006-da-oceanografia-ao-conda-forge/',\n",
       " 'https://podcast.pizzadedados.com/e/episodio-005-serenata-de-amor/',\n",
       " 'https://podcast.pizzadedados.com/e/episodio-004-era-uma-vez-dados/',\n",
       " 'https://podcast.pizzadedados.com/e/episodio-003-sabor-da-casa/',\n",
       " 'https://podcast.pizzadedados.com/e/episodio-002-pizza-de-aprendizado/',\n",
       " 'https://podcast.pizzadedados.com/e/episodio-001-hello-world/']"
      ]
     },
     "execution_count": 22,
     "metadata": {},
     "output_type": "execute_result"
    }
   ],
   "source": [
    "c = ColetorLinksPizza()\n",
    "c.arrasta()\n",
    "c.links"
   ]
  },
  {
   "cell_type": "code",
   "execution_count": null,
   "metadata": {},
   "outputs": [],
   "source": []
  }
 ],
 "metadata": {
  "kernelspec": {
   "display_name": "Python 3",
   "language": "python",
   "name": "python3"
  },
  "language_info": {
   "codemirror_mode": {
    "name": "ipython",
    "version": 3
   },
   "file_extension": ".py",
   "mimetype": "text/x-python",
   "name": "python",
   "nbconvert_exporter": "python",
   "pygments_lexer": "ipython3",
   "version": "3.7.3"
  }
 },
 "nbformat": 4,
 "nbformat_minor": 2
}
